{
 "cells": [
  {
   "cell_type": "markdown",
   "id": "07f60809",
   "metadata": {},
   "source": [
    "Name=Maham Nafees\n",
    "\n",
    "Roll no=038"
   ]
  },
  {
   "cell_type": "markdown",
   "id": "a9a6893d",
   "metadata": {},
   "source": [
    ". Code for LUHN Algorithm "
   ]
  },
  {
   "cell_type": "code",
   "execution_count": 2,
   "id": "279d3953",
   "metadata": {},
   "outputs": [
    {
     "name": "stdout",
     "output_type": "stream",
     "text": [
      " Card number is VALID\n"
     ]
    }
   ],
   "source": [
    "\n",
    "card_number = input(\"Enter card number: \")\n",
    "\n",
    "numbers = list(map(int, card_number))\n",
    "\n",
    "n = len(numbers)\n",
    "for i in range(n - 2, -1, -2):   \n",
    "    doubled = numbers[i] * 2\n",
    "    if doubled > 9:\n",
    "        doubled -= 9\n",
    "    numbers[i] = doubled\n",
    "\n",
    "\n",
    "total = sum(numbers)\n",
    "\n",
    "\n",
    "if total % 10 == 0:\n",
    "    print(\" Card number is VALID\")\n",
    "else:\n",
    "    print(\"Card number is INVALID\")\n"
   ]
  },
  {
   "cell_type": "markdown",
   "id": "8c002b7c",
   "metadata": {},
   "source": [
    ". Write a python program to remove punctuations from the given string?  "
   ]
  },
  {
   "cell_type": "code",
   "execution_count": 3,
   "id": "dc65d1e0",
   "metadata": {},
   "outputs": [
    {
     "name": "stdout",
     "output_type": "stream",
     "text": [
      "Without punctuation: i hate myself\n"
     ]
    }
   ],
   "source": [
    "\n",
    "\n",
    "import string   \n",
    "\n",
    "text = input(\"Enter a sentence: \")\n",
    "\n",
    "result = \"\"\n",
    "for ch in text:\n",
    "    if ch not in string.punctuation:\n",
    "        result = result + ch\n",
    "\n",
    "print(\"Without punctuation:\", result)\n"
   ]
  },
  {
   "cell_type": "markdown",
   "id": "96a38546",
   "metadata": {},
   "source": [
    ". Write a python program to sort the sentence in alphabetical order?  "
   ]
  },
  {
   "cell_type": "code",
   "execution_count": 4,
   "id": "8da63897",
   "metadata": {},
   "outputs": [
    {
     "name": "stdout",
     "output_type": "stream",
     "text": [
      "Sorted sentence: is maham my name\n"
     ]
    }
   ],
   "source": [
    "\n",
    "sentence = input(\"Enter a sentence: \")\n",
    "\n",
    "words = sentence.split()\n",
    "\n",
    "words.sort()\n",
    "\n",
    "sorted_sentence = \" \".join(words)\n",
    "print(\"Sorted sentence:\", sorted_sentence)\n"
   ]
  }
 ],
 "metadata": {
  "kernelspec": {
   "display_name": "Python 3",
   "language": "python",
   "name": "python3"
  },
  "language_info": {
   "codemirror_mode": {
    "name": "ipython",
    "version": 3
   },
   "file_extension": ".py",
   "mimetype": "text/x-python",
   "name": "python",
   "nbconvert_exporter": "python",
   "pygments_lexer": "ipython3",
   "version": "3.12.5"
  }
 },
 "nbformat": 4,
 "nbformat_minor": 5
}
